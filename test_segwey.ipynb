{
 "cells": [
  {
   "cell_type": "code",
   "execution_count": 7,
   "metadata": {},
   "outputs": [],
   "source": [
    "import numpy as np\n",
    "from segwey import segwey\n",
    "import matplotlib.pyplot as plt"
   ]
  },
  {
   "cell_type": "code",
   "execution_count": 14,
   "metadata": {},
   "outputs": [
    {
     "name": "stdout",
     "output_type": "stream",
     "text": [
      "19.478\n"
     ]
    }
   ],
   "source": [
    "# Время падения\n",
    "env = segwey()\n",
    "I=[]\n",
    "for i in range(500):\n",
    "    i = 0\n",
    "    s = env.reset()\n",
    "    while True:\n",
    "        s,r,d,_ = env.step(0)\n",
    "        if d:\n",
    "            break\n",
    "        i+=1\n",
    "    I.append(i)\n",
    "print(np.mean(I))"
   ]
  },
  {
   "cell_type": "markdown",
   "metadata": {},
   "source": [
    "Непрерывный вариант"
   ]
  },
  {
   "cell_type": "code",
   "execution_count": 3,
   "metadata": {},
   "outputs": [
    {
     "name": "stdout",
     "output_type": "stream",
     "text": [
      "max a 21.446170317136293\n"
     ]
    },
    {
     "data": {
      "image/png": "[encoded data removed]",
      "text/plain": [
       "<Figure size 432x288 with 1 Axes>"
      ]
     },
     "metadata": {
      "needs_background": "light"
     },
     "output_type": "display_data"
    }
   ],
   "source": [
    "env = segwey()\n",
    "\n",
    "s = env.reset()\n",
    "S = []\n",
    "A = []\n",
    "d = False\n",
    "i = 0\n",
    "while i<500:\n",
    "    a = env.tet.dot(s)\n",
    "    s, r, d, _ = env.step(a)\n",
    "    S.append(s)\n",
    "    A.append(a)\n",
    "    i+=1\n",
    "    if d:\n",
    "        break\n",
    "S=np.array(S)\n",
    "A=np.array(A)\n",
    "plt.plot(range(len(S)), S[:,[0,1]])\n",
    "print(\"max a\", np.max(abs(A)))"
   ]
  },
  {
   "cell_type": "markdown",
   "metadata": {},
   "source": [
    "Дискретный вариант"
   ]
  },
  {
   "cell_type": "code",
   "execution_count": 4,
   "metadata": {},
   "outputs": [
    {
     "name": "stdout",
     "output_type": "stream",
     "text": [
      "60.19902318573553\n",
      "70.72849690006007\n"
     ]
    }
   ],
   "source": [
    "A = []\n",
    "for i in range(300):\n",
    "    d = False\n",
    "    s = env.reset()\n",
    "    i = 0\n",
    "    while i<200:\n",
    "        a = env.tet.dot(s)\n",
    "        s, r, d, _ = env.step(a)\n",
    "        A.append(a)\n",
    "        i+=1\n",
    "        if d:\n",
    "            break\n",
    "A = np.array(sorted(A))\n",
    "print(max(abs(A[:-50])))\n",
    "print(max(abs(A)))"
   ]
  },
  {
   "cell_type": "code",
   "execution_count": 5,
   "metadata": {},
   "outputs": [
    {
     "name": "stdout",
     "output_type": "stream",
     "text": [
      "8 10\n"
     ]
    },
    {
     "data": {
      "image/png": "[encoded data removed]",
      "text/plain": [
       "<Figure size 432x288 with 1 Axes>"
      ]
     },
     "metadata": {
      "needs_background": "light"
     },
     "output_type": "display_data"
    }
   ],
   "source": [
    "env = segwey()\n",
    "# env.discrete = True\n",
    "# env.discrete_level = 25\n",
    "# env.max_u = 200\n",
    "env.set_param(discrete_level = 10, max_u = 100)\n",
    "# env.theta_threshold_radians=100\n",
    "s = env.reset()\n",
    "S = []\n",
    "A = []\n",
    "d = False\n",
    "i = 0\n",
    "while i<500:\n",
    "    a = env.tet.dot(s)\n",
    "    tet_a = a\n",
    "    a = max(-env.max_u, min(a, env.max_u))\n",
    "    a = int((a/env.max_u)*env.discrete_level) + env.discrete_level\n",
    "#     print(tet_a, (a-env.discrete_level)/env.discrete_level*env.max_u)\n",
    "    s, r, d, _ = env.step(a)\n",
    "    S.append(s)\n",
    "    A.append(a)\n",
    "    i+=1\n",
    "    if d:\n",
    "        break\n",
    "S=np.array(S)\n",
    "A=np.array(A)\n",
    "plt.plot(range(len(S)), S[:,[0,1]], (A-env.discrete_level)/env.discrete_level)\n",
    "print(np.min(A), np.max(A))"
   ]
  },
  {
   "cell_type": "code",
   "execution_count": 6,
   "metadata": {},
   "outputs": [
    {
     "name": "stdout",
     "output_type": "stream",
     "text": [
      "0/300\n"
     ]
    }
   ],
   "source": [
    "d = False\n",
    "fail = 0\n",
    "N = 300\n",
    "for i in range(N):\n",
    "    s = env.reset()\n",
    "    while i<500:\n",
    "        a = env.tet.dot(s)\n",
    "        tet_a = a\n",
    "        a = max(-env.max_u, min(a, env.max_u))\n",
    "        a = int((a/env.max_u)*env.discrete_level) + env.discrete_level\n",
    "    #     print(tet_a, (a-env.discrete_level)/env.discrete_level*env.max_u)\n",
    "        s, r, d, _ = env.step(a)\n",
    "        i+=1\n",
    "        if d:\n",
    "            fail+=1\n",
    "            break\n",
    "print(\"{:}/{:}\".format(fail,N))"
   ]
  },
  {
   "cell_type": "code",
   "execution_count": null,
   "metadata": {},
   "outputs": [],
   "source": []
  }
 ],
 "metadata": {
  "colab": {
   "name": "seminar_pytorch.ipynb",
   "provenance": []
  },
  "kernelspec": {
   "display_name": "Python 3",
   "language": "python",
   "name": "python3"
  },
  "language_info": {
   "codemirror_mode": {
    "name": "ipython",
    "version": 3
   },
   "file_extension": ".py",
   "mimetype": "text/x-python",
   "name": "python",
   "nbconvert_exporter": "python",
   "pygments_lexer": "ipython3",
   "version": "3.5.2"
  }
 },
 "nbformat": 4,
 "nbformat_minor": 1
}
