{
 "cells": [
  {
   "cell_type": "markdown",
   "metadata": {
    "colab_type": "text",
    "id": "L8Ha-jdthEB0"
   },
   "source": [
    "# Approximate q-learning (5 pts)\n",
    "\n",
    "In this notebook you will teach a __pytorch__ neural network to do Q-learning."
   ]
  },
  {
   "cell_type": "code",
   "execution_count": 20,
   "metadata": {
    "colab": {
     "base_uri": "https://localhost:8080/",
     "height": 34
    },
    "colab_type": "code",
    "id": "iN__cWxZhEB4",
    "outputId": "f67d01de-92fb-492b-b29c-b6d9c1c8a3bd"
   },
   "outputs": [],
   "source": [
    "# in google colab uncomment this\n",
    "\n",
    "# import os\n",
    "\n",
    "# os.system('apt-get update')\n",
    "# os.system('apt-get install -y xvfb')\n",
    "# os.system('wget https://raw.githubusercontent.com/yandexdataschool/Practical_DL/fall18/xvfb -O ../xvfb')\n",
    "# os.system('apt-get install -y python-opengl ffmpeg')\n",
    "# os.system('pip install pyglet==1.5.0')\n",
    "\n",
    "# XVFB will be launched if you run on a server\n",
    "import os\n",
    "if type(os.environ.get(\"DISPLAY\")) is not str or len(os.environ.get(\"DISPLAY\")) == 0:\n",
    "    !bash ../xvfb start\n",
    "    os.environ['DISPLAY'] = ':1'"
   ]
  },
  {
   "cell_type": "code",
   "execution_count": 21,
   "metadata": {
    "colab": {},
    "colab_type": "code",
    "id": "qG6oRIMmhEB_"
   },
   "outputs": [],
   "source": [
    "import gym\n",
    "from segwey import segwey\n",
    "import numpy as np\n",
    "import pandas as pd\n",
    "import matplotlib.pyplot as plt\n",
    "%matplotlib inline"
   ]
  },
  {
   "cell_type": "code",
   "execution_count": 22,
   "metadata": {
    "colab": {
     "base_uri": "https://localhost:8080/",
     "height": 303
    },
    "colab_type": "code",
    "id": "I0myXAPjhECE",
    "outputId": "3ce14874-d965-4168-87eb-5603426954cc"
   },
   "outputs": [
    {
     "name": "stdout",
     "output_type": "stream",
     "text": [
      "discrete_level 10\n",
      "max_u 100\n",
      "[ 0.         -0.24328692  0.          0.        ]\n",
      "21 (4,)\n"
     ]
    }
   ],
   "source": [
    "env = segwey()\n",
    "env.set_param(discrete_level = 10, max_u = 100)\n",
    "print(\"discrete_level\", env.discrete_level)\n",
    "print(\"max_u\", env.max_u)\n",
    "s = env.reset()\n",
    "n_actions = env.n_actions\n",
    "state_dim = env.state_dim\n",
    "print(s)\n",
    "\n",
    "print((n_actions), (state_dim))"
   ]
  },
  {
   "cell_type": "markdown",
   "metadata": {
    "colab_type": "text",
    "id": "r_5tjEZGhECK"
   },
   "source": [
    "# Approximate Q-learning: building the network\n",
    "\n",
    "To train a neural network policy one must have a neural network policy. Let's build it.\n",
    "\n",
    "\n",
    "Since we're working with a pre-extracted features (cart positions, angles and velocities), we don't need a complicated network yet. In fact, let's build something like this for starters:\n",
    "\n",
    "![img](https://raw.githubusercontent.com/yandexdataschool/Practical_RL/master/yet_another_week/_resource/qlearning_scheme.png)\n",
    "\n",
    "For your first run, please only use linear layers (nn.Linear) and activations. Stuff like batch normalization or dropout may ruin everything if used haphazardly. \n",
    "\n",
    "Also please avoid using nonlinearities like sigmoid & tanh: agent's observations are not normalized so sigmoids may become saturated from init.\n",
    "\n",
    "Ideally you should start small with maybe 1-2 hidden layers with < 200 neurons and then increase network size if agent doesn't beat the target score."
   ]
  },
  {
   "cell_type": "code",
   "execution_count": 23,
   "metadata": {
    "colab": {},
    "colab_type": "code",
    "id": "q0NoyjajhECM"
   },
   "outputs": [],
   "source": [
    "import torch\n",
    "import torch.nn as nn\n",
    "import torch.nn.functional as F"
   ]
  },
  {
   "cell_type": "code",
   "execution_count": 24,
   "metadata": {
    "colab": {},
    "colab_type": "code",
    "id": "uMtqOaDIhECS"
   },
   "outputs": [],
   "source": [
    "network = nn.Sequential()\n",
    "\n",
    "network.add_module('layer1', nn.Linear(state_dim[0], 64))\n",
    "network.add_module('relu1', nn.ReLU())\n",
    "network.add_module('layer2', nn.Linear(64, 64))\n",
    "network.add_module('relu2', nn.ReLU())\n",
    "network.add_module('layer3', nn.Linear(64, n_actions))\n",
    "\n",
    "# hint: use state_dim[0] as input size"
   ]
  },
  {
   "cell_type": "code",
   "execution_count": 25,
   "metadata": {
    "colab": {},
    "colab_type": "code",
    "id": "turHm4gfhECd"
   },
   "outputs": [],
   "source": [
    "def get_action(state, epsilon=0):\n",
    "    \"\"\"\n",
    "    sample actions with epsilon-greedy policy\n",
    "    recap: with p = epsilon pick random action, else pick action with highest Q(s,a)\n",
    "    \"\"\"\n",
    "    state = torch.tensor(state[None], dtype=torch.float32)\n",
    "    q_values = network(state).detach().numpy()\n",
    "    \n",
    "    action = np.argmax(q_values)\n",
    "    if np.random.binomial(1,p=epsilon):\n",
    "        action = np.random.choice(range(q_values.shape[-1]))\n",
    "\n",
    "    return int( action )"
   ]
  },
  {
   "cell_type": "code",
   "execution_count": 26,
   "metadata": {
    "colab": {},
    "colab_type": "code",
    "id": "lCIZsXRUhECj"
   },
   "outputs": [
    {
     "name": "stdout",
     "output_type": "stream",
     "text": [
      "e=0.0 tests passed\n",
      "e=0.1 tests passed\n",
      "e=0.5 tests passed\n",
      "e=1.0 tests passed\n"
     ]
    }
   ],
   "source": [
    "s = env.reset()\n",
    "assert tuple(network(torch.tensor([s]*3, dtype=torch.float32)).size()) == (\n",
    "    3, n_actions), \"please make sure your model maps state s -> [Q(s,a0), ..., Q(s, a_last)]\"\n",
    "assert isinstance(list(network.modules(\n",
    "))[-1], nn.Linear), \"please make sure you predict q-values without nonlinearity (ignore if you know what you're doing)\"\n",
    "assert isinstance(get_action(\n",
    "    s), int), \"get_action(s) must return int, not %s. try int(action)\" % (type(get_action(s)))\n",
    "\n",
    "# test epsilon-greedy exploration\n",
    "for eps in [0., 0.1, 0.5, 1.0]:\n",
    "    state_frequencies = np.bincount(\n",
    "        [get_action(s, epsilon=eps) for i in range(10000)], minlength=n_actions)\n",
    "    best_action = state_frequencies.argmax()\n",
    "    assert abs(state_frequencies[best_action] -\n",
    "               10000 * (1 - eps + eps / n_actions)) < 200\n",
    "    for other_action in range(n_actions):\n",
    "        if other_action != best_action:\n",
    "            assert abs(state_frequencies[other_action] -\n",
    "                       10000 * (eps / n_actions)) < 200\n",
    "    print('e=%.1f tests passed' % eps)"
   ]
  },
  {
   "cell_type": "markdown",
   "metadata": {
    "colab_type": "text",
    "id": "sQbhj_lYhECo"
   },
   "source": [
    "### Q-learning via gradient descent\n",
    "\n",
    "We shall now train our agent's Q-function by minimizing the TD loss:\n",
    "$$ L = { 1 \\over N} \\sum_i (Q_{\\theta}(s,a) - [r(s,a) + \\gamma \\cdot max_{a'} Q_{-}(s', a')]) ^2 $$\n",
    "\n",
    "\n",
    "Where\n",
    "* $s, a, r, s'$ are current state, action, reward and next state respectively\n",
    "* $\\gamma$ is a discount factor defined two cells above.\n",
    "\n",
    "The tricky part is with  $Q_{-}(s',a')$. From an engineering standpoint, it's the same as $Q_{\\theta}$ - the output of your neural network policy. However, when doing gradient descent, __we won't propagate gradients through it__ to make training more stable (see lectures).\n",
    "\n",
    "To do so, we shall use `x.detach()` function which basically says \"consider this thing constant when doingbackprop\"."
   ]
  },
  {
   "cell_type": "code",
   "execution_count": 27,
   "metadata": {
    "colab": {},
    "colab_type": "code",
    "id": "qHVSnQ6QhECu"
   },
   "outputs": [],
   "source": [
    "def compute_td_loss(states, actions, rewards, next_states, is_done, gamma=0.99, check_shapes=False):\n",
    "    \"\"\" Compute td loss using torch operations only. Use the formula above. \"\"\"\n",
    "    states = torch.tensor(\n",
    "        states, dtype=torch.float32)    # shape: [batch_size, state_size]\n",
    "    actions = torch.tensor(actions, dtype=torch.long)    # shape: [batch_size]\n",
    "    rewards = torch.tensor(rewards, dtype=torch.float32)  # shape: [batch_size]\n",
    "    # shape: [batch_size, state_size]\n",
    "    next_states = torch.tensor(next_states, dtype=torch.float32)\n",
    "    is_done = torch.tensor(is_done, dtype=torch.uint8)  # shape: [batch_size]\n",
    "\n",
    "    # get q-values for all actions in current states\n",
    "    predicted_qvalues = network(states)\n",
    "\n",
    "    # select q-values for chosen actions\n",
    "    predicted_qvalues_for_actions = predicted_qvalues[\n",
    "      range(states.shape[0]), actions\n",
    "    ]\n",
    "\n",
    "    # compute q-values for all actions in next states\n",
    "    predicted_next_qvalues = network(next_states)\n",
    "\n",
    "    # compute V*(next_states) using predicted next q-values\n",
    "    next_state_values =  torch.max(predicted_next_qvalues, dim=-1)[0]\n",
    "    assert next_state_values.dtype == torch.float32\n",
    "\n",
    "    # compute \"target q-values\" for loss - it's what's inside square parentheses in the above formula.\n",
    "    target_qvalues_for_actions =  rewards + gamma*next_state_values\n",
    "\n",
    "    # at the last state we shall use simplified formula: Q(s,a) = r(s,a) since s' doesn't exist\n",
    "    target_qvalues_for_actions = torch.where(\n",
    "        is_done, rewards, target_qvalues_for_actions)\n",
    "\n",
    "    # mean squared error loss to minimize\n",
    "    loss = torch.mean((predicted_qvalues_for_actions -\n",
    "                       target_qvalues_for_actions.detach()) ** 2)\n",
    "\n",
    "    if check_shapes:\n",
    "        assert predicted_next_qvalues.data.dim(\n",
    "        ) == 2, \"make sure you predicted q-values for all actions in next state\"\n",
    "        assert next_state_values.data.dim(\n",
    "        ) == 1, \"make sure you computed V(s') as maximum over just the actions axis and not all axes\"\n",
    "        assert target_qvalues_for_actions.data.dim(\n",
    "        ) == 1, \"there's something wrong with target q-values, they must be a vector\"\n",
    "\n",
    "    return loss"
   ]
  },
  {
   "cell_type": "code",
   "execution_count": 28,
   "metadata": {
    "colab": {},
    "colab_type": "code",
    "id": "p6iqsrTjhEC7"
   },
   "outputs": [],
   "source": [
    "# sanity checks\n",
    "s = env.reset()\n",
    "a = get_action(s)\n",
    "next_s, r, done, _ = env.step(a)\n",
    "loss = compute_td_loss([s], [a], [r], [next_s], [done], check_shapes=True)\n",
    "loss.backward()\n",
    "\n",
    "assert len(loss.size()) == 0, \"you must return scalar loss - mean over batch\"\n",
    "assert np.any(next(network.parameters()).grad.detach().numpy() !=\n",
    "              0), \"loss must be differentiable w.r.t. network weights\""
   ]
  },
  {
   "cell_type": "markdown",
   "metadata": {
    "colab_type": "text",
    "id": "uLkU3A7vhEDA"
   },
   "source": [
    "### Playing the game"
   ]
  },
  {
   "cell_type": "code",
   "execution_count": 29,
   "metadata": {
    "colab": {},
    "colab_type": "code",
    "id": "PNJUql5HhEDB"
   },
   "outputs": [],
   "source": [
    "opt = torch.optim.Adam(network.parameters(), lr=1e-4)\n",
    "epsilon = 0.5"
   ]
  },
  {
   "cell_type": "code",
   "execution_count": 30,
   "metadata": {
    "colab": {},
    "colab_type": "code",
    "id": "7_aGAweihEDG"
   },
   "outputs": [],
   "source": [
    "def generate_session(t_max=1000, epsilon=0, train=False):\n",
    "    \"\"\"play env with approximate q-learning agent and train it at the same time\"\"\"\n",
    "    total_reward = 0\n",
    "    s = env.reset()\n",
    "\n",
    "    for t in range(t_max):\n",
    "        a = get_action(s, epsilon=epsilon)\n",
    "        next_s, r, done, _ = env.step(a)\n",
    "\n",
    "        if train:\n",
    "            opt.zero_grad()\n",
    "            compute_td_loss([s], [a], [r], [next_s], [done]).backward()\n",
    "            opt.step()\n",
    "\n",
    "        total_reward += r\n",
    "        s = next_s\n",
    "        if done:\n",
    "            break\n",
    "\n",
    "    return total_reward"
   ]
  },
  {
   "cell_type": "code",
   "execution_count": null,
   "metadata": {
    "colab": {
     "base_uri": "https://localhost:8080/",
     "height": 323
    },
    "colab_type": "code",
    "id": "__bEbYEnhEDL",
    "outputId": "e832418b-2a50-42b2-827e-f1f5908b76a1"
   },
   "outputs": [
    {
     "name": "stdout",
     "output_type": "stream",
     "text": [
      "epoch #0\tmean reward = 15.450\tepsilon = 0.500\n",
      "epoch #1\tmean reward = 10.920\tepsilon = 0.495\n",
      "epoch #2\tmean reward = 15.630\tepsilon = 0.490\n",
      "epoch #3\tmean reward = 14.550\tepsilon = 0.485\n",
      "epoch #4\tmean reward = 16.950\tepsilon = 0.480\n",
      "epoch #5\tmean reward = 14.900\tepsilon = 0.475\n",
      "epoch #6\tmean reward = 16.230\tepsilon = 0.471\n",
      "epoch #7\tmean reward = 17.160\tepsilon = 0.466\n",
      "epoch #8\tmean reward = 16.960\tepsilon = 0.461\n",
      "epoch #9\tmean reward = 17.920\tepsilon = 0.457\n",
      "epoch #10\tmean reward = 16.950\tepsilon = 0.452\n",
      "epoch #11\tmean reward = 18.710\tepsilon = 0.448\n",
      "epoch #12\tmean reward = 14.510\tepsilon = 0.443\n",
      "epoch #13\tmean reward = 17.690\tepsilon = 0.439\n",
      "epoch #14\tmean reward = 18.200\tepsilon = 0.434\n",
      "epoch #15\tmean reward = 18.560\tepsilon = 0.430\n",
      "epoch #16\tmean reward = 15.760\tepsilon = 0.426\n",
      "epoch #17\tmean reward = 16.420\tepsilon = 0.421\n",
      "epoch #18\tmean reward = 15.700\tepsilon = 0.417\n",
      "epoch #19\tmean reward = 17.610\tepsilon = 0.413\n",
      "epoch #20\tmean reward = 15.950\tepsilon = 0.409\n",
      "epoch #21\tmean reward = 16.480\tepsilon = 0.405\n",
      "epoch #22\tmean reward = 17.070\tepsilon = 0.401\n",
      "epoch #23\tmean reward = 16.750\tepsilon = 0.397\n",
      "epoch #24\tmean reward = 14.350\tepsilon = 0.393\n",
      "epoch #25\tmean reward = 16.530\tepsilon = 0.389\n",
      "epoch #26\tmean reward = 16.160\tepsilon = 0.385\n",
      "epoch #27\tmean reward = 16.640\tepsilon = 0.381\n",
      "epoch #28\tmean reward = 18.040\tepsilon = 0.377\n",
      "epoch #29\tmean reward = 17.770\tepsilon = 0.374\n",
      "epoch #30\tmean reward = 17.610\tepsilon = 0.370\n",
      "epoch #31\tmean reward = 15.090\tepsilon = 0.366\n",
      "epoch #32\tmean reward = 13.930\tepsilon = 0.362\n",
      "epoch #33\tmean reward = 13.720\tepsilon = 0.359\n",
      "epoch #34\tmean reward = 15.790\tepsilon = 0.355\n",
      "epoch #35\tmean reward = 13.070\tepsilon = 0.352\n",
      "epoch #36\tmean reward = 17.080\tepsilon = 0.348\n",
      "epoch #37\tmean reward = 11.590\tepsilon = 0.345\n",
      "epoch #38\tmean reward = 12.880\tepsilon = 0.341\n",
      "epoch #39\tmean reward = 15.280\tepsilon = 0.338\n",
      "epoch #40\tmean reward = 13.220\tepsilon = 0.334\n",
      "epoch #41\tmean reward = 14.010\tepsilon = 0.331\n",
      "epoch #42\tmean reward = 15.070\tepsilon = 0.328\n",
      "epoch #43\tmean reward = 10.580\tepsilon = 0.325\n",
      "epoch #44\tmean reward = 14.140\tepsilon = 0.321\n",
      "epoch #45\tmean reward = 11.030\tepsilon = 0.318\n",
      "epoch #46\tmean reward = 13.440\tepsilon = 0.315\n",
      "epoch #47\tmean reward = 12.540\tepsilon = 0.312\n",
      "epoch #48\tmean reward = 10.450\tepsilon = 0.309\n",
      "epoch #49\tmean reward = 12.730\tepsilon = 0.306\n",
      "epoch #50\tmean reward = 15.360\tepsilon = 0.303\n",
      "epoch #51\tmean reward = 14.130\tepsilon = 0.299\n",
      "epoch #52\tmean reward = 14.710\tepsilon = 0.296\n",
      "epoch #53\tmean reward = 13.570\tepsilon = 0.294\n",
      "epoch #54\tmean reward = 12.290\tepsilon = 0.291\n",
      "epoch #55\tmean reward = 12.750\tepsilon = 0.288\n",
      "epoch #56\tmean reward = 12.520\tepsilon = 0.285\n",
      "epoch #57\tmean reward = 17.490\tepsilon = 0.282\n",
      "epoch #58\tmean reward = 15.530\tepsilon = 0.279\n",
      "epoch #59\tmean reward = 18.500\tepsilon = 0.276\n",
      "epoch #60\tmean reward = 20.400\tepsilon = 0.274\n",
      "epoch #61\tmean reward = 29.400\tepsilon = 0.271\n",
      "epoch #62\tmean reward = 27.260\tepsilon = 0.268\n",
      "epoch #63\tmean reward = 24.870\tepsilon = 0.265\n",
      "epoch #64\tmean reward = 21.090\tepsilon = 0.263\n",
      "epoch #65\tmean reward = 18.690\tepsilon = 0.260\n",
      "epoch #66\tmean reward = 20.130\tepsilon = 0.258\n",
      "epoch #67\tmean reward = 16.620\tepsilon = 0.255\n",
      "epoch #68\tmean reward = 18.010\tepsilon = 0.252\n",
      "epoch #69\tmean reward = 17.600\tepsilon = 0.250\n",
      "epoch #70\tmean reward = 17.100\tepsilon = 0.247\n",
      "epoch #71\tmean reward = 19.630\tepsilon = 0.245\n",
      "epoch #72\tmean reward = 18.920\tepsilon = 0.242\n",
      "epoch #73\tmean reward = 21.600\tepsilon = 0.240\n",
      "epoch #74\tmean reward = 19.540\tepsilon = 0.238\n",
      "epoch #75\tmean reward = 22.170\tepsilon = 0.235\n",
      "epoch #76\tmean reward = 20.680\tepsilon = 0.233\n",
      "epoch #77\tmean reward = 21.230\tepsilon = 0.231\n",
      "epoch #78\tmean reward = 17.700\tepsilon = 0.228\n",
      "epoch #79\tmean reward = 20.370\tepsilon = 0.226\n",
      "epoch #80\tmean reward = 18.190\tepsilon = 0.224\n",
      "epoch #81\tmean reward = 20.710\tepsilon = 0.222\n",
      "epoch #82\tmean reward = 20.490\tepsilon = 0.219\n",
      "epoch #83\tmean reward = 21.210\tepsilon = 0.217\n",
      "epoch #84\tmean reward = 21.500\tepsilon = 0.215\n",
      "epoch #85\tmean reward = 21.790\tepsilon = 0.213\n",
      "epoch #86\tmean reward = 20.430\tepsilon = 0.211\n",
      "epoch #87\tmean reward = 24.130\tepsilon = 0.209\n",
      "epoch #88\tmean reward = 18.820\tepsilon = 0.206\n",
      "epoch #89\tmean reward = 22.740\tepsilon = 0.204\n",
      "epoch #90\tmean reward = 22.290\tepsilon = 0.202\n",
      "epoch #91\tmean reward = 23.140\tepsilon = 0.200\n",
      "epoch #92\tmean reward = 23.440\tepsilon = 0.198\n",
      "epoch #93\tmean reward = 19.970\tepsilon = 0.196\n",
      "epoch #94\tmean reward = 19.580\tepsilon = 0.194\n",
      "epoch #95\tmean reward = 19.060\tepsilon = 0.192\n",
      "epoch #96\tmean reward = 22.540\tepsilon = 0.191\n",
      "epoch #97\tmean reward = 25.140\tepsilon = 0.189\n",
      "epoch #98\tmean reward = 27.290\tepsilon = 0.187\n",
      "epoch #99\tmean reward = 20.020\tepsilon = 0.185\n",
      "epoch #100\tmean reward = 23.860\tepsilon = 0.183\n",
      "epoch #101\tmean reward = 28.840\tepsilon = 0.181\n",
      "epoch #102\tmean reward = 31.780\tepsilon = 0.179\n",
      "epoch #103\tmean reward = 28.650\tepsilon = 0.178\n",
      "epoch #104\tmean reward = 25.310\tepsilon = 0.176\n",
      "epoch #105\tmean reward = 26.990\tepsilon = 0.174\n",
      "epoch #106\tmean reward = 27.850\tepsilon = 0.172\n",
      "epoch #107\tmean reward = 31.520\tepsilon = 0.171\n",
      "epoch #108\tmean reward = 28.610\tepsilon = 0.169\n",
      "epoch #109\tmean reward = 13.690\tepsilon = 0.167\n",
      "epoch #110\tmean reward = 39.120\tepsilon = 0.166\n",
      "epoch #111\tmean reward = 39.300\tepsilon = 0.164\n",
      "epoch #112\tmean reward = 38.490\tepsilon = 0.162\n",
      "epoch #113\tmean reward = 38.850\tepsilon = 0.161\n",
      "epoch #114\tmean reward = 40.020\tepsilon = 0.159\n",
      "epoch #115\tmean reward = 41.310\tepsilon = 0.157\n",
      "epoch #116\tmean reward = 41.620\tepsilon = 0.156\n",
      "epoch #117\tmean reward = 45.080\tepsilon = 0.154\n",
      "epoch #118\tmean reward = 47.620\tepsilon = 0.153\n",
      "epoch #119\tmean reward = 44.810\tepsilon = 0.151\n",
      "epoch #120\tmean reward = 44.600\tepsilon = 0.150\n",
      "epoch #121\tmean reward = 46.080\tepsilon = 0.148\n",
      "epoch #122\tmean reward = 46.280\tepsilon = 0.147\n",
      "epoch #123\tmean reward = 52.470\tepsilon = 0.145\n",
      "epoch #124\tmean reward = 54.740\tepsilon = 0.144\n",
      "epoch #125\tmean reward = 52.380\tepsilon = 0.142\n",
      "epoch #126\tmean reward = 58.580\tepsilon = 0.141\n",
      "epoch #127\tmean reward = 61.830\tepsilon = 0.140\n",
      "epoch #128\tmean reward = 55.600\tepsilon = 0.138\n",
      "epoch #129\tmean reward = 57.660\tepsilon = 0.137\n",
      "epoch #130\tmean reward = 57.760\tepsilon = 0.135\n",
      "epoch #131\tmean reward = 64.220\tepsilon = 0.134\n",
      "epoch #132\tmean reward = 74.620\tepsilon = 0.133\n",
      "epoch #133\tmean reward = 79.510\tepsilon = 0.131\n",
      "epoch #134\tmean reward = 79.230\tepsilon = 0.130\n",
      "epoch #135\tmean reward = 68.380\tepsilon = 0.129\n",
      "epoch #136\tmean reward = 76.410\tepsilon = 0.127\n",
      "epoch #137\tmean reward = 76.780\tepsilon = 0.126\n",
      "epoch #138\tmean reward = 81.840\tepsilon = 0.125\n",
      "epoch #139\tmean reward = 76.750\tepsilon = 0.124\n",
      "epoch #140\tmean reward = 73.980\tepsilon = 0.122\n",
      "epoch #141\tmean reward = 74.320\tepsilon = 0.121\n",
      "epoch #142\tmean reward = 48.580\tepsilon = 0.120\n",
      "epoch #143\tmean reward = 58.990\tepsilon = 0.119\n",
      "epoch #144\tmean reward = 48.420\tepsilon = 0.118\n",
      "epoch #145\tmean reward = 57.070\tepsilon = 0.116\n",
      "epoch #146\tmean reward = 84.280\tepsilon = 0.115\n",
      "epoch #147\tmean reward = 110.050\tepsilon = 0.114\n",
      "epoch #148\tmean reward = 90.820\tepsilon = 0.113\n",
      "epoch #149\tmean reward = 131.470\tepsilon = 0.112\n",
      "epoch #150\tmean reward = 107.620\tepsilon = 0.111\n",
      "epoch #151\tmean reward = 132.270\tepsilon = 0.110\n",
      "epoch #152\tmean reward = 128.640\tepsilon = 0.109\n",
      "epoch #153\tmean reward = 113.390\tepsilon = 0.107\n"
     ]
    }
   ],
   "source": [
    "for i in range(1000):\n",
    "    session_rewards = [generate_session(\n",
    "        epsilon=epsilon, train=True) for _ in range(100)]\n",
    "    print(\"epoch #{}\\tmean reward = {:.3f}\\tepsilon = {:.3f}\".format(\n",
    "        i, np.mean(session_rewards), epsilon))\n",
    "\n",
    "    epsilon *= 0.99\n",
    "    assert epsilon >= 1e-4, \"Make sure epsilon is always nonzero during training\"\n",
    "\n",
    "    if np.mean(session_rewards) > 500:\n",
    "        print(\"You Win!\")\n",
    "        break"
   ]
  },
  {
   "cell_type": "markdown",
   "metadata": {
    "colab_type": "text",
    "id": "vLSh6RxUhEDQ"
   },
   "source": [
    "### How to interpret results\n",
    "\n",
    "\n",
    "Welcome to the f.. world of deep f...n reinforcement learning. Don't expect agent's reward to smoothly go up. Hope for it to go increase eventually. If it deems you worthy.\n",
    "\n",
    "Seriously though,\n",
    "* __ mean reward__ is the average reward per game. For a correct implementation it may stay low for some 10 epochs, then start growing while oscilating insanely and converges by ~50-100 steps depending on the network architecture. \n",
    "* If it never reaches target score by the end of for loop, try increasing the number of hidden neurons or look at the epsilon.\n",
    "* __ epsilon__ - agent's willingness to explore. If you see that agent's already at < 0.01 epsilon before it's is at least 200, just reset it back to 0.1 - 0.5."
   ]
  },
  {
   "cell_type": "code",
   "execution_count": null,
   "metadata": {},
   "outputs": [],
   "source": [
    "s = env.reset()\n",
    "X=[]\n",
    "for t in range(300):\n",
    "    a = get_action(s)\n",
    "    s, r, done, _ = env.step(a)\n",
    "    X.append(s)\n",
    "\n",
    "plt.plot(range(len(X)),np.array(X)[:,[0,2]])"
   ]
  },
  {
   "cell_type": "code",
   "execution_count": null,
   "metadata": {
    "colab": {},
    "colab_type": "code",
    "id": "NS3XimvohEDg"
   },
   "outputs": [],
   "source": []
  }
 ],
 "metadata": {
  "colab": {
   "name": "seminar_pytorch.ipynb",
   "provenance": []
  },
  "kernelspec": {
   "display_name": "Python 3",
   "language": "python",
   "name": "python3"
  },
  "language_info": {
   "codemirror_mode": {
    "name": "ipython",
    "version": 3
   },
   "file_extension": ".py",
   "mimetype": "text/x-python",
   "name": "python",
   "nbconvert_exporter": "python",
   "pygments_lexer": "ipython3",
   "version": "3.5.2"
  }
 },
 "nbformat": 4,
 "nbformat_minor": 1
}
